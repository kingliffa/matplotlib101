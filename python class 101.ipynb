{
 "cells": [
  {
   "cell_type": "code",
   "execution_count": 2,
   "id": "29ee6920",
   "metadata": {},
   "outputs": [
    {
     "name": "stdout",
     "output_type": "stream",
     "text": [
      "HELLO WORLD\n"
     ]
    }
   ],
   "source": [
    "print(\"HELLO WORLD\")"
   ]
  },
  {
   "cell_type": "code",
   "execution_count": 4,
   "id": "d2631b3d",
   "metadata": {},
   "outputs": [
    {
     "name": "stdout",
     "output_type": "stream",
     "text": [
      "5\n",
      "JOHN\n"
     ]
    }
   ],
   "source": [
    "X=5\n",
    "Y=\"JOHN\"\n",
    "print(X)\n",
    "print(Y)"
   ]
  },
  {
   "cell_type": "code",
   "execution_count": 5,
   "id": "dcb468e1",
   "metadata": {},
   "outputs": [
    {
     "name": "stdout",
     "output_type": "stream",
     "text": [
      "confirm\n"
     ]
    }
   ],
   "source": [
    "if 4>2:\n",
    "    print(\"confirm\")"
   ]
  },
  {
   "cell_type": "code",
   "execution_count": 6,
   "id": "7b7b5cec",
   "metadata": {},
   "outputs": [
    {
     "name": "stdout",
     "output_type": "stream",
     "text": [
      "Gods blesings for me will me renued ever morning\n"
     ]
    }
   ],
   "source": [
    "#this is my affirmation\n",
    "print(\"Gods blesings for me will me renued ever morning\")"
   ]
  },
  {
   "cell_type": "code",
   "execution_count": 8,
   "id": "14587029",
   "metadata": {
    "scrolled": true
   },
   "outputs": [
    {
     "name": "stdout",
     "output_type": "stream",
     "text": [
      "BEST\n"
     ]
    }
   ],
   "source": [
    "print(\"BEST\")#me"
   ]
  },
  {
   "cell_type": "code",
   "execution_count": 9,
   "id": "4b67071d",
   "metadata": {},
   "outputs": [
    {
     "name": "stdout",
     "output_type": "stream",
     "text": [
      "hello world\n"
     ]
    }
   ],
   "source": [
    "#print(\"hello world\")\n",
    "print(\"hello world\")"
   ]
  },
  {
   "cell_type": "code",
   "execution_count": 11,
   "id": "f06ec15d",
   "metadata": {},
   "outputs": [
    {
     "name": "stdout",
     "output_type": "stream",
     "text": [
      "Oyamienlen Oseremen\n"
     ]
    }
   ],
   "source": [
    "\"\"\"As long as the ray of the sun continues to be yellow, \n",
    "may we allways \n",
    "and always \n",
    "be victorious\n",
    "\"\"\"\n",
    "\n",
    "print(\"Oyamienlen Oseremen\")"
   ]
  },
  {
   "cell_type": "code",
   "execution_count": 12,
   "id": "1432dc54",
   "metadata": {},
   "outputs": [
    {
     "name": "stdout",
     "output_type": "stream",
     "text": [
      "<class 'int'>\n",
      "<class 'str'>\n"
     ]
    }
   ],
   "source": [
    "x=5\n",
    "y=\"ose\"\n",
    "print(type(x))\n",
    "print(type(y))"
   ]
  },
  {
   "cell_type": "code",
   "execution_count": 15,
   "id": "040a5d60",
   "metadata": {},
   "outputs": [
    {
     "name": "stdout",
     "output_type": "stream",
     "text": [
      "Ose\n",
      "joy\n",
      "Ty\n"
     ]
    }
   ],
   "source": [
    "x,y,z=\"Ose\",\"joy\",\"Ty\"\n",
    "print(x)\n",
    "print(y)\n",
    "print(z)"
   ]
  },
  {
   "cell_type": "code",
   "execution_count": 17,
   "id": "84ebe298",
   "metadata": {},
   "outputs": [
    {
     "name": "stdout",
     "output_type": "stream",
     "text": [
      "python is awesome\n"
     ]
    }
   ],
   "source": [
    "x=\"python\"\n",
    "y=\"is\"\n",
    "z=\"awesome\"\n",
    "print(x,y,z)"
   ]
  },
  {
   "cell_type": "code",
   "execution_count": 21,
   "id": "f7a2e12f",
   "metadata": {},
   "outputs": [
    {
     "name": "stdout",
     "output_type": "stream",
     "text": [
      "python is awesome\n"
     ]
    }
   ],
   "source": [
    "x=\"python \"\n",
    "y=\"is \"\n",
    "z=\"awesome\"\n",
    "print(x + y + z)"
   ]
  },
  {
   "cell_type": "code",
   "execution_count": 24,
   "id": "6d154315",
   "metadata": {},
   "outputs": [
    {
     "name": "stdout",
     "output_type": "stream",
     "text": [
      "python is  awesome\n"
     ]
    }
   ],
   "source": [
    "x=\"awesome\"\n",
    "\n",
    "\n",
    "def myfunc():\n",
    "    print(\"python is  \"+x)\n",
    "    \n",
    "myfunc()"
   ]
  },
  {
   "cell_type": "code",
   "execution_count": 29,
   "id": "5530fc22",
   "metadata": {},
   "outputs": [
    {
     "name": "stdout",
     "output_type": "stream",
     "text": [
      "python is fantastic\n"
     ]
    }
   ],
   "source": [
    "def myfunc():\n",
    "    global x\n",
    "    x = (\"fantastic\")\n",
    "\n",
    "myfunc()\n",
    "\n",
    "print(\"python is \" + x)"
   ]
  },
  {
   "cell_type": "code",
   "execution_count": 2,
   "id": "47ab3ae4",
   "metadata": {},
   "outputs": [],
   "source": [
    "#x=awesome\n"
   ]
  },
  {
   "cell_type": "code",
   "execution_count": 5,
   "id": "32334078",
   "metadata": {},
   "outputs": [
    {
     "name": "stdout",
     "output_type": "stream",
     "text": [
      "<class 'int'>\n",
      "<class 'float'>\n",
      "<class 'complex'>\n"
     ]
    }
   ],
   "source": [
    "x=1\n",
    "y=2.8\n",
    "z=1j\n",
    "print(type (x))\n",
    "print(type (y))\n",
    "print(type (z))"
   ]
  },
  {
   "cell_type": "code",
   "execution_count": 8,
   "id": "ee1e4b05",
   "metadata": {},
   "outputs": [
    {
     "name": "stdout",
     "output_type": "stream",
     "text": [
      "<class 'int'>\n",
      "<class 'complex'>\n",
      "<class 'complex'>\n"
     ]
    }
   ],
   "source": [
    "#x=3+5i\n",
    "y=5-2J\n",
    "z=8+4j\n",
    "print(type(x))\n",
    "print(type(y))\n",
    "print(type(z))"
   ]
  },
  {
   "cell_type": "code",
   "execution_count": 13,
   "id": "d4ceebf1",
   "metadata": {},
   "outputs": [
    {
     "name": "stdout",
     "output_type": "stream",
     "text": [
      "<class 'float'>\n",
      "<class 'int'>\n",
      "<class 'complex'>\n",
      "1.0\n",
      "2\n",
      "(2.8+0j)\n"
     ]
    }
   ],
   "source": [
    "#casting the process of converting data type from one to another\n",
    "x=1\n",
    "y=2.8\n",
    "z=1j\n",
    "a=float(x)\n",
    "b=int(y)\n",
    "c=complex(y)\n",
    "print(type(a))\n",
    "print(type(b))\n",
    "print(type(c))\n",
    "print((a))\n",
    "print((b))\n",
    "print((c))\n",
    "\n"
   ]
  },
  {
   "cell_type": "code",
   "execution_count": 23,
   "id": "6ce4599a",
   "metadata": {},
   "outputs": [
    {
     "name": "stdout",
     "output_type": "stream",
     "text": [
      "o\n",
      "12\n",
      "llo\n",
      "rl\n"
     ]
    }
   ],
   "source": [
    "#looking for indentation number starting with zero\n",
    "a=\"Hello, World\"\n",
    "print(a[4])\n",
    "print(len(a))\n",
    "print(a[2:5])\n",
    "print(a[-3:-1])"
   ]
  },
  {
   "cell_type": "code",
   "execution_count": 1,
   "id": "880c7b91",
   "metadata": {},
   "outputs": [
    {
     "name": "stdout",
     "output_type": "stream",
     "text": [
      "my name is john, and i am 36\n"
     ]
    }
   ],
   "source": [
    "age=36\n",
    "txt=\"my name is john, and i am {}\"\n",
    "print(txt.format(age))"
   ]
  },
  {
   "cell_type": "code",
   "execution_count": 1,
   "id": "6c8ea983",
   "metadata": {},
   "outputs": [
    {
     "name": "stdout",
     "output_type": "stream",
     "text": [
      "Orange\n",
      "Apple\n",
      "Banana\n",
      "pawpaw\n",
      "kiwi\n"
     ]
    }
   ],
   "source": [
    "Fruit= [\"Orange\",\"Apple\",\"Banana\",\"pawpaw\", \"kiwi\"]\n",
    "for x in Fruit:\n",
    "    print(x)"
   ]
  },
  {
   "cell_type": "code",
   "execution_count": 3,
   "id": "c6f0c790",
   "metadata": {},
   "outputs": [
    {
     "name": "stdout",
     "output_type": "stream",
     "text": [
      "<class 'tuple'>\n"
     ]
    }
   ],
   "source": [
    "Fruit= (\"Orange\",\"Apple\",\"Banana\",\"pawpaw\", \"kiwi\")\n",
    "print(type(Fruit))"
   ]
  },
  {
   "cell_type": "code",
   "execution_count": 9,
   "id": "15a714c2",
   "metadata": {},
   "outputs": [
    {
     "name": "stdout",
     "output_type": "stream",
     "text": [
      "('Apple', 'banana', 'Mango')\n"
     ]
    }
   ],
   "source": [
    "Fruit=(\"Apple\",\"banana\",\"cherry\")\n",
    "Y= list(Fruit)\n",
    "Y[2]= \"Mango\"\n",
    "Fruit= tuple(Y)\n",
    "print(Fruit)"
   ]
  },
  {
   "cell_type": "code",
   "execution_count": 13,
   "id": "a66f1bb8",
   "metadata": {},
   "outputs": [
    {
     "name": "stdout",
     "output_type": "stream",
     "text": [
      "('Apple', 'banana', 'cherry', 'Orange')\n"
     ]
    }
   ],
   "source": [
    "Fruit=(\"Apple\",\"banana\",\"cherry\")\n",
    "Y= list(Fruit)\n",
    "Y.append(\"Orange\")\n",
    "Fruit= tuple(Y)\n",
    "print(Fruit)"
   ]
  },
  {
   "cell_type": "code",
   "execution_count": 15,
   "id": "d3fb7520",
   "metadata": {},
   "outputs": [
    {
     "name": "stdout",
     "output_type": "stream",
     "text": [
      "<class 'set'>\n"
     ]
    }
   ],
   "source": [
    "SHOPS={\"Apple\",\"banana\",\"cherry\"}\n",
    "print(type(SHOPS))"
   ]
  },
  {
   "cell_type": "code",
   "execution_count": 1,
   "id": "783211bc",
   "metadata": {},
   "outputs": [
    {
     "name": "stdout",
     "output_type": "stream",
     "text": [
      "1\n",
      "2\n",
      "3\n"
     ]
    }
   ],
   "source": [
    "i = 1\n",
    "while i< 6:\n",
    "    print(i)\n",
    "    if i ==3:\n",
    "      break\n",
    "    i += 1"
   ]
  },
  {
   "cell_type": "code",
   "execution_count": null,
   "id": "f1d2c144",
   "metadata": {},
   "outputs": [],
   "source": []
  }
 ],
 "metadata": {
  "kernelspec": {
   "display_name": "Python 3",
   "language": "python",
   "name": "python3"
  },
  "language_info": {
   "codemirror_mode": {
    "name": "ipython",
    "version": 3
   },
   "file_extension": ".py",
   "mimetype": "text/x-python",
   "name": "python",
   "nbconvert_exporter": "python",
   "pygments_lexer": "ipython3",
   "version": "3.8.8"
  }
 },
 "nbformat": 4,
 "nbformat_minor": 5
}
